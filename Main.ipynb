{
 "cells": [
  {
   "cell_type": "code",
   "execution_count": 7,
   "id": "f9a73150",
   "metadata": {},
   "outputs": [],
   "source": [
    "from main import func"
   ]
  },
  {
   "cell_type": "code",
   "execution_count": 6,
   "id": "9281761f",
   "metadata": {},
   "outputs": [
    {
     "name": "stdout",
     "output_type": "stream",
     "text": [
      "Func works\n"
     ]
    }
   ],
   "source": [
    "func(\"Func works\")"
   ]
  }
 ],
 "metadata": {
  "kernelspec": {
   "display_name": "Python 3 (ipykernel)",
   "language": "python",
   "name": "python3"
  },
  "language_info": {
   "codemirror_mode": {
    "name": "ipython",
    "version": 3
   },
   "file_extension": ".py",
   "mimetype": "text/x-python",
   "name": "python",
   "nbconvert_exporter": "python",
   "pygments_lexer": "ipython3",
   "version": "3.9.12"
  }
 },
 "nbformat": 4,
 "nbformat_minor": 5
}
